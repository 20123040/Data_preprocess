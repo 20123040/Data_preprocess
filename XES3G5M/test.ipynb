{
 "cells": [
  {
   "cell_type": "code",
   "execution_count": 15,
   "metadata": {},
   "outputs": [],
   "source": [
    "import numpy as np\n",
    "import pandas as pd\n",
    "import json\n",
    "from tqdm import tqdm"
   ]
  },
  {
   "cell_type": "code",
   "execution_count": 16,
   "metadata": {},
   "outputs": [],
   "source": [
    "data_train = pd.read_csv('XES3G5M/kc_level/train_valid_sequences.csv')\n",
    "data_test = pd.read_csv('XES3G5M/kc_level/test.csv')\n",
    "\n",
    "with open(f'XES3G5M/metadata/questions.json', 'r') as file:\n",
    "    q_data = json.load(file)\n",
    "\n",
    "with open(f'XES3G5M/metadata/kc_routes_map.json', 'r') as file:\n",
    "    route_data = json.load(file)"
   ]
  },
  {
   "cell_type": "code",
   "execution_count": 17,
   "metadata": {},
   "outputs": [
    {
     "data": {
      "text/html": [
       "<div>\n",
       "<style scoped>\n",
       "    .dataframe tbody tr th:only-of-type {\n",
       "        vertical-align: middle;\n",
       "    }\n",
       "\n",
       "    .dataframe tbody tr th {\n",
       "        vertical-align: top;\n",
       "    }\n",
       "\n",
       "    .dataframe thead th {\n",
       "        text-align: right;\n",
       "    }\n",
       "</style>\n",
       "<table border=\"1\" class=\"dataframe\">\n",
       "  <thead>\n",
       "    <tr style=\"text-align: right;\">\n",
       "      <th></th>\n",
       "      <th>fold</th>\n",
       "      <th>uid</th>\n",
       "      <th>questions</th>\n",
       "      <th>concepts</th>\n",
       "      <th>responses</th>\n",
       "      <th>timestamps</th>\n",
       "      <th>selectmasks</th>\n",
       "      <th>is_repeat</th>\n",
       "    </tr>\n",
       "  </thead>\n",
       "  <tbody>\n",
       "    <tr>\n",
       "      <th>0</th>\n",
       "      <td>0</td>\n",
       "      <td>11066</td>\n",
       "      <td>3751,3752,3753,3754,1990,3739,3740,3742,3756,3...</td>\n",
       "      <td>187,187,374,187,374,188,188,228,166,170,221,40...</td>\n",
       "      <td>1,1,1,0,1,1,1,1,0,0,0,1,1,1,1,1,1,1,1,1,0,1,1,...</td>\n",
       "      <td>1595229836000,1595233013000,1595233687000,1595...</td>\n",
       "      <td>1,1,1,1,1,1,1,1,1,1,1,1,1,1,1,1,1,1,1,1,1,1,1,...</td>\n",
       "      <td>0,0,0,0,0,0,0,0,0,1,0,0,0,0,0,0,0,0,0,0,0,0,0,...</td>\n",
       "    </tr>\n",
       "    <tr>\n",
       "      <th>1</th>\n",
       "      <td>0</td>\n",
       "      <td>11066</td>\n",
       "      <td>95,4294,4294,4300,4300,4301,4302,4308,115,130,...</td>\n",
       "      <td>63,64,102,659,376,147,147,65,64,78,81,468,78,7...</td>\n",
       "      <td>0,1,1,1,1,1,0,0,1,1,0,1,1,1,1,1,1,1,1,0,0,0,1,...</td>\n",
       "      <td>1608890160000,1608892236000,1608892236000,1608...</td>\n",
       "      <td>1,1,1,1,1,1,1,1,1,1,1,1,1,1,1,1,1,1,1,1,1,1,1,...</td>\n",
       "      <td>0,0,1,0,1,0,0,0,0,0,0,0,0,0,0,0,0,0,0,0,0,0,0,...</td>\n",
       "    </tr>\n",
       "    <tr>\n",
       "      <th>2</th>\n",
       "      <td>0</td>\n",
       "      <td>14482</td>\n",
       "      <td>266,268,2203,870,2316,2587,2323,2588,5194,868,...</td>\n",
       "      <td>9,139,140,9,496,232,231,231,146,145,231,31,65,...</td>\n",
       "      <td>0,0,0,1,0,0,0,0,0,0,0,0,0,0,0,1,0,0,1,0,0,0,1,...</td>\n",
       "      <td>1595896054000,1595896054000,1595896054000,1595...</td>\n",
       "      <td>1,1,1,1,1,1,1,1,1,1,1,1,1,1,1,1,1,1,1,1,1,1,1,...</td>\n",
       "      <td>0,0,0,0,0,0,0,0,0,0,1,0,0,0,1,0,0,0,0,0,0,0,0,...</td>\n",
       "    </tr>\n",
       "    <tr>\n",
       "      <th>3</th>\n",
       "      <td>0</td>\n",
       "      <td>14482</td>\n",
       "      <td>1280,1046,405,404,404,4623,4622,4622,4624,4954...</td>\n",
       "      <td>257,32,204,204,205,206,526,206,206,206,206,207...</td>\n",
       "      <td>0,1,1,1,1,1,1,1,1,0,0,0,1,1,1,1,1,0,0,1,1,1,1,...</td>\n",
       "      <td>1614471945000,1614471945000,1614471945000,1614...</td>\n",
       "      <td>1,1,1,1,1,1,1,1,1,1,1,1,1,1,1,1,1,1,1,1,1,1,1,...</td>\n",
       "      <td>0,0,0,0,1,0,0,1,0,0,0,0,0,0,0,0,0,0,0,0,0,0,0,...</td>\n",
       "    </tr>\n",
       "    <tr>\n",
       "      <th>4</th>\n",
       "      <td>0</td>\n",
       "      <td>10532</td>\n",
       "      <td>268,266,2203,2588,2587,2323,275,811,2205,2205,...</td>\n",
       "      <td>139,9,140,231,232,231,30,30,62,65,62,65,152,15...</td>\n",
       "      <td>1,0,0,0,1,0,1,1,1,1,1,0,1,0,1,0,0,0,1,1,1,0,1,...</td>\n",
       "      <td>1595918717000,1595918717000,1595918717000,1596...</td>\n",
       "      <td>1,1,1,1,1,1,1,1,1,1,1,1,1,1,1,1,1,1,1,1,1,1,1,...</td>\n",
       "      <td>0,0,0,0,0,0,0,0,0,1,0,0,0,0,0,0,0,0,0,0,0,0,0,...</td>\n",
       "    </tr>\n",
       "  </tbody>\n",
       "</table>\n",
       "</div>"
      ],
      "text/plain": [
       "   fold    uid                                          questions  \\\n",
       "0     0  11066  3751,3752,3753,3754,1990,3739,3740,3742,3756,3...   \n",
       "1     0  11066  95,4294,4294,4300,4300,4301,4302,4308,115,130,...   \n",
       "2     0  14482  266,268,2203,870,2316,2587,2323,2588,5194,868,...   \n",
       "3     0  14482  1280,1046,405,404,404,4623,4622,4622,4624,4954...   \n",
       "4     0  10532  268,266,2203,2588,2587,2323,275,811,2205,2205,...   \n",
       "\n",
       "                                            concepts  \\\n",
       "0  187,187,374,187,374,188,188,228,166,170,221,40...   \n",
       "1  63,64,102,659,376,147,147,65,64,78,81,468,78,7...   \n",
       "2  9,139,140,9,496,232,231,231,146,145,231,31,65,...   \n",
       "3  257,32,204,204,205,206,526,206,206,206,206,207...   \n",
       "4  139,9,140,231,232,231,30,30,62,65,62,65,152,15...   \n",
       "\n",
       "                                           responses  \\\n",
       "0  1,1,1,0,1,1,1,1,0,0,0,1,1,1,1,1,1,1,1,1,0,1,1,...   \n",
       "1  0,1,1,1,1,1,0,0,1,1,0,1,1,1,1,1,1,1,1,0,0,0,1,...   \n",
       "2  0,0,0,1,0,0,0,0,0,0,0,0,0,0,0,1,0,0,1,0,0,0,1,...   \n",
       "3  0,1,1,1,1,1,1,1,1,0,0,0,1,1,1,1,1,0,0,1,1,1,1,...   \n",
       "4  1,0,0,0,1,0,1,1,1,1,1,0,1,0,1,0,0,0,1,1,1,0,1,...   \n",
       "\n",
       "                                          timestamps  \\\n",
       "0  1595229836000,1595233013000,1595233687000,1595...   \n",
       "1  1608890160000,1608892236000,1608892236000,1608...   \n",
       "2  1595896054000,1595896054000,1595896054000,1595...   \n",
       "3  1614471945000,1614471945000,1614471945000,1614...   \n",
       "4  1595918717000,1595918717000,1595918717000,1596...   \n",
       "\n",
       "                                         selectmasks  \\\n",
       "0  1,1,1,1,1,1,1,1,1,1,1,1,1,1,1,1,1,1,1,1,1,1,1,...   \n",
       "1  1,1,1,1,1,1,1,1,1,1,1,1,1,1,1,1,1,1,1,1,1,1,1,...   \n",
       "2  1,1,1,1,1,1,1,1,1,1,1,1,1,1,1,1,1,1,1,1,1,1,1,...   \n",
       "3  1,1,1,1,1,1,1,1,1,1,1,1,1,1,1,1,1,1,1,1,1,1,1,...   \n",
       "4  1,1,1,1,1,1,1,1,1,1,1,1,1,1,1,1,1,1,1,1,1,1,1,...   \n",
       "\n",
       "                                           is_repeat  \n",
       "0  0,0,0,0,0,0,0,0,0,1,0,0,0,0,0,0,0,0,0,0,0,0,0,...  \n",
       "1  0,0,1,0,1,0,0,0,0,0,0,0,0,0,0,0,0,0,0,0,0,0,0,...  \n",
       "2  0,0,0,0,0,0,0,0,0,0,1,0,0,0,1,0,0,0,0,0,0,0,0,...  \n",
       "3  0,0,0,0,1,0,0,1,0,0,0,0,0,0,0,0,0,0,0,0,0,0,0,...  \n",
       "4  0,0,0,0,0,0,0,0,0,1,0,0,0,0,0,0,0,0,0,0,0,0,0,...  "
      ]
     },
     "execution_count": 17,
     "metadata": {},
     "output_type": "execute_result"
    }
   ],
   "source": [
    "data_train.head()"
   ]
  },
  {
   "cell_type": "code",
   "execution_count": 18,
   "metadata": {},
   "outputs": [
    {
     "name": "stderr",
     "output_type": "stream",
     "text": [
      "Filter student: 100%|██████████| 10000/10000 [00:07<00:00, 1254.34it/s]\n",
      "Filter the least respone number: 100%|██████████| 2944842/2944842 [00:02<00:00, 1013467.03it/s]\n"
     ]
    }
   ],
   "source": [
    "response_data = dict()\n",
    "stu_response_data = dict() \n",
    "stu_num = np.random.choice(np.arange(18066), size=10000, replace=False)\n",
    "least_respone_num = 300\n",
    "\n",
    "for stu in tqdm(stu_num, desc='Filter student'):\n",
    "    for data in data_train.loc[data_train['uid'] == stu].values:\n",
    "        uid, questions, responses, selectmasks = data[1], data[2].split(','), data[4].split(','), data[6].split(',')\n",
    "        for i in range(len(questions)):\n",
    "            if selectmasks[i] == '-1':\n",
    "                break\n",
    "            # if questions[i] == -1:\n",
    "            #     print(questions[i])\n",
    "            tmp_data = (uid, questions[i])\n",
    "            response_data[tmp_data] = responses[i]\n",
    "    \n",
    "    for data in data_test.loc[data_test['uid'] == stu].values:\n",
    "        uid, questions, responses = data[1], data[2].split(','), data[4].split(',')\n",
    "        for i in range(len(questions)):\n",
    "            tmp_data = (uid, questions[i])\n",
    "            response_data[tmp_data] = responses[i]\n",
    "\n",
    "for key, value in tqdm(response_data.items(), desc='Filter the least respone number'):\n",
    "    if key[0] not in stu_response_data:\n",
    "        stu_response_data[key[0]] = []\n",
    "    stu_response_data[key[0]].append([int(key[0]), int(key[1]), int(value)])"
   ]
  },
  {
   "cell_type": "code",
   "execution_count": 19,
   "metadata": {},
   "outputs": [
    {
     "name": "stderr",
     "output_type": "stream",
     "text": [
      "Remap student_id, question_id and concept_id: 100%|██████████| 10000/10000 [00:01<00:00, 5051.71it/s]\n"
     ]
    }
   ],
   "source": [
    "TotalData = []\n",
    "stu_map = dict()\n",
    "cnt_stu = 0\n",
    "question_set = set()\n",
    "cnt_question = 0\n",
    "question_map = dict()\n",
    "concept_set = set()\n",
    "cnt_concept = 0\n",
    "concept_map = dict()\n",
    "\n",
    "for key, value in tqdm(stu_response_data.items(), desc='Remap student_id, question_id and concept_id'):\n",
    "    if len(value) >= least_respone_num:\n",
    "        stu_map[key] = cnt_stu\n",
    "        cnt_stu += 1\n",
    "        for data in value:\n",
    "            question_set.add(data[1])\n",
    "            for concept in q_data[str(data[1])]['kc_routes'][0].split('----'):\n",
    "                concept_set.add(concept)\n",
    "\n",
    "for question in question_set:\n",
    "    question_map[question] = cnt_question\n",
    "    cnt_question += 1\n",
    "\n",
    "for concept in concept_set:\n",
    "    concept_map[concept] = cnt_concept\n",
    "    cnt_concept += 1"
   ]
  },
  {
   "cell_type": "code",
   "execution_count": 20,
   "metadata": {},
   "outputs": [
    {
     "name": "stderr",
     "output_type": "stream",
     "text": [
      "Construct final data: 100%|██████████| 10000/10000 [00:05<00:00, 1855.23it/s]\n"
     ]
    }
   ],
   "source": [
    "TotalData = []\n",
    "q_matrix = np.zeros((cnt_question, cnt_concept))\n",
    "\n",
    "for key, value in tqdm(stu_response_data.items(), desc='Construct final data'):\n",
    "    if len(value) >= least_respone_num:\n",
    "        for data in value:\n",
    "            TotalData.append([stu_map[data[0]], question_map[data[1]], data[2]])\n",
    "            for concept in q_data[str(data[1])]['kc_routes'][0].split('----'):\n",
    "                q_matrix[question_map[data[1]]][concept_map[concept]] = 1"
   ]
  },
  {
   "cell_type": "code",
   "execution_count": 21,
   "metadata": {},
   "outputs": [
    {
     "name": "stdout",
     "output_type": "stream",
     "text": [
      "Final student number: 3971, Final question number: 6475, Final concept number: 1029, Final response number: 1512280\n"
     ]
    }
   ],
   "source": [
    " print('Final student number: {}, Final question number: {}, Final concept number: {}, Final response number: {}'.format(cnt_stu, cnt_question, cnt_concept, len(TotalData)))"
   ]
  },
  {
   "cell_type": "code",
   "execution_count": null,
   "metadata": {},
   "outputs": [],
   "source": []
  }
 ],
 "metadata": {
  "kernelspec": {
   "display_name": "base",
   "language": "python",
   "name": "python3"
  },
  "language_info": {
   "codemirror_mode": {
    "name": "ipython",
    "version": 3
   },
   "file_extension": ".py",
   "mimetype": "text/x-python",
   "name": "python",
   "nbconvert_exporter": "python",
   "pygments_lexer": "ipython3",
   "version": "3.7.0"
  }
 },
 "nbformat": 4,
 "nbformat_minor": 2
}
