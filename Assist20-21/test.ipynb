{
 "cells": [
  {
   "cell_type": "code",
   "execution_count": 1,
   "metadata": {},
   "outputs": [],
   "source": [
    "import numpy as np\n",
    "import pandas as pd\n",
    "from tqdm import tqdm"
   ]
  },
  {
   "cell_type": "code",
   "execution_count": 35,
   "metadata": {},
   "outputs": [],
   "source": [
    "data_response_1 = pd.read_csv('aug_to_oct/plogs.csv')\n",
    "data_response_2 = pd.read_csv('feb_to_apr/plogs.csv')\n",
    "# data_response_3 = pd.read_csv('may_to_june/plogs.csv')\n",
    "# data_response_4 = pd.read_csv('nov_to_jan/plogs.csv')\n",
    "\n",
    "q_data_1 = pd.read_csv('aug_to_oct/pdets.csv')[['problem_id','skills']]\n",
    "q_data_2 = pd.read_csv('feb_to_apr/pdets.csv')[['problem_id','skills']]\n",
    "# q_data_3 = pd.read_csv('may_to_june/pdets.csv')[['problem_id','skills']]\n",
    "# q_data_4 = pd.read_csv('nov_to_jan/pdets.csv')[['problem_id','skills']]\n"
   ]
  },
  {
   "cell_type": "code",
   "execution_count": 7,
   "metadata": {},
   "outputs": [],
   "source": [
    "data_response = pd.concat([data_response_1,data_response_2])\n",
    "q_data = pd.merge(q_data_1, q_data_2, how = 'outer', on = ['problem_id', 'skills'])"
   ]
  },
  {
   "cell_type": "code",
   "execution_count": 59,
   "metadata": {},
   "outputs": [
    {
     "data": {
      "text/html": [
       "<div>\n",
       "<style scoped>\n",
       "    .dataframe tbody tr th:only-of-type {\n",
       "        vertical-align: middle;\n",
       "    }\n",
       "\n",
       "    .dataframe tbody tr th {\n",
       "        vertical-align: top;\n",
       "    }\n",
       "\n",
       "    .dataframe thead th {\n",
       "        text-align: right;\n",
       "    }\n",
       "</style>\n",
       "<table border=\"1\" class=\"dataframe\">\n",
       "  <thead>\n",
       "    <tr style=\"text-align: right;\">\n",
       "      <th></th>\n",
       "      <th>log_id</th>\n",
       "      <th>student_id</th>\n",
       "      <th>assignment_id</th>\n",
       "      <th>problem_id</th>\n",
       "      <th>start_time</th>\n",
       "      <th>time_on_task</th>\n",
       "      <th>answer_before_tutoring</th>\n",
       "      <th>fraction_of_hints_used</th>\n",
       "      <th>attempt_count</th>\n",
       "      <th>answer_given</th>\n",
       "      <th>problem_completed</th>\n",
       "      <th>correct</th>\n",
       "    </tr>\n",
       "  </thead>\n",
       "  <tbody>\n",
       "    <tr>\n",
       "      <th>0</th>\n",
       "      <td>3981410</td>\n",
       "      <td>402701</td>\n",
       "      <td>364445</td>\n",
       "      <td>1456214</td>\n",
       "      <td>2020-08-01 02:23:26.565000-04:00</td>\n",
       "      <td>11.450</td>\n",
       "      <td>True</td>\n",
       "      <td>0.0</td>\n",
       "      <td>1</td>\n",
       "      <td>False</td>\n",
       "      <td>True</td>\n",
       "      <td>True</td>\n",
       "    </tr>\n",
       "    <tr>\n",
       "      <th>1</th>\n",
       "      <td>3981410</td>\n",
       "      <td>402701</td>\n",
       "      <td>364445</td>\n",
       "      <td>1558472</td>\n",
       "      <td>2020-08-01 02:23:47.681000-04:00</td>\n",
       "      <td>11.818</td>\n",
       "      <td>True</td>\n",
       "      <td>NaN</td>\n",
       "      <td>1</td>\n",
       "      <td>False</td>\n",
       "      <td>True</td>\n",
       "      <td>True</td>\n",
       "    </tr>\n",
       "    <tr>\n",
       "      <th>2</th>\n",
       "      <td>3981410</td>\n",
       "      <td>402701</td>\n",
       "      <td>364445</td>\n",
       "      <td>1558473</td>\n",
       "      <td>2020-08-01 02:24:07.132000-04:00</td>\n",
       "      <td>9.738</td>\n",
       "      <td>True</td>\n",
       "      <td>NaN</td>\n",
       "      <td>1</td>\n",
       "      <td>False</td>\n",
       "      <td>True</td>\n",
       "      <td>True</td>\n",
       "    </tr>\n",
       "    <tr>\n",
       "      <th>3</th>\n",
       "      <td>3981410</td>\n",
       "      <td>402701</td>\n",
       "      <td>364445</td>\n",
       "      <td>1558474</td>\n",
       "      <td>2020-08-01 02:24:19.276000-04:00</td>\n",
       "      <td>10.741</td>\n",
       "      <td>True</td>\n",
       "      <td>NaN</td>\n",
       "      <td>1</td>\n",
       "      <td>False</td>\n",
       "      <td>True</td>\n",
       "      <td>True</td>\n",
       "    </tr>\n",
       "    <tr>\n",
       "      <th>4</th>\n",
       "      <td>3981410</td>\n",
       "      <td>402701</td>\n",
       "      <td>364445</td>\n",
       "      <td>1456221</td>\n",
       "      <td>2020-08-01 02:24:31.972000-04:00</td>\n",
       "      <td>NaN</td>\n",
       "      <td>NaN</td>\n",
       "      <td>NaN</td>\n",
       "      <td>0</td>\n",
       "      <td>False</td>\n",
       "      <td>False</td>\n",
       "      <td>NaN</td>\n",
       "    </tr>\n",
       "  </tbody>\n",
       "</table>\n",
       "</div>"
      ],
      "text/plain": [
       "    log_id  student_id  assignment_id  problem_id  \\\n",
       "0  3981410      402701         364445     1456214   \n",
       "1  3981410      402701         364445     1558472   \n",
       "2  3981410      402701         364445     1558473   \n",
       "3  3981410      402701         364445     1558474   \n",
       "4  3981410      402701         364445     1456221   \n",
       "\n",
       "                         start_time  time_on_task answer_before_tutoring  \\\n",
       "0  2020-08-01 02:23:26.565000-04:00        11.450                   True   \n",
       "1  2020-08-01 02:23:47.681000-04:00        11.818                   True   \n",
       "2  2020-08-01 02:24:07.132000-04:00         9.738                   True   \n",
       "3  2020-08-01 02:24:19.276000-04:00        10.741                   True   \n",
       "4  2020-08-01 02:24:31.972000-04:00           NaN                    NaN   \n",
       "\n",
       "   fraction_of_hints_used  attempt_count  answer_given  problem_completed  \\\n",
       "0                     0.0              1         False               True   \n",
       "1                     NaN              1         False               True   \n",
       "2                     NaN              1         False               True   \n",
       "3                     NaN              1         False               True   \n",
       "4                     NaN              0         False              False   \n",
       "\n",
       "  correct  \n",
       "0    True  \n",
       "1    True  \n",
       "2    True  \n",
       "3    True  \n",
       "4     NaN  "
      ]
     },
     "execution_count": 59,
     "metadata": {},
     "output_type": "execute_result"
    }
   ],
   "source": [
    "data_response.head()"
   ]
  },
  {
   "cell_type": "code",
   "execution_count": 60,
   "metadata": {},
   "outputs": [
    {
     "data": {
      "text/html": [
       "<div>\n",
       "<style scoped>\n",
       "    .dataframe tbody tr th:only-of-type {\n",
       "        vertical-align: middle;\n",
       "    }\n",
       "\n",
       "    .dataframe tbody tr th {\n",
       "        vertical-align: top;\n",
       "    }\n",
       "\n",
       "    .dataframe thead th {\n",
       "        text-align: right;\n",
       "    }\n",
       "</style>\n",
       "<table border=\"1\" class=\"dataframe\">\n",
       "  <thead>\n",
       "    <tr style=\"text-align: right;\">\n",
       "      <th></th>\n",
       "      <th>problem_id</th>\n",
       "      <th>skills</th>\n",
       "    </tr>\n",
       "  </thead>\n",
       "  <tbody>\n",
       "    <tr>\n",
       "      <th>0</th>\n",
       "      <td>33.0</td>\n",
       "      <td>['8.NS.A.2-1']</td>\n",
       "    </tr>\n",
       "    <tr>\n",
       "      <th>1</th>\n",
       "      <td>35.0</td>\n",
       "      <td>['8.NS.A.2-1']</td>\n",
       "    </tr>\n",
       "    <tr>\n",
       "      <th>2</th>\n",
       "      <td>37.0</td>\n",
       "      <td>['8.NS.A.2-1']</td>\n",
       "    </tr>\n",
       "    <tr>\n",
       "      <th>3</th>\n",
       "      <td>39.0</td>\n",
       "      <td>['8.NS.A.2-1']</td>\n",
       "    </tr>\n",
       "    <tr>\n",
       "      <th>4</th>\n",
       "      <td>58.0</td>\n",
       "      <td>NaN</td>\n",
       "    </tr>\n",
       "  </tbody>\n",
       "</table>\n",
       "</div>"
      ],
      "text/plain": [
       "   problem_id          skills\n",
       "0        33.0  ['8.NS.A.2-1']\n",
       "1        35.0  ['8.NS.A.2-1']\n",
       "2        37.0  ['8.NS.A.2-1']\n",
       "3        39.0  ['8.NS.A.2-1']\n",
       "4        58.0             NaN"
      ]
     },
     "execution_count": 60,
     "metadata": {},
     "output_type": "execute_result"
    }
   ],
   "source": [
    "q_data.head()"
   ]
  },
  {
   "cell_type": "code",
   "execution_count": 61,
   "metadata": {},
   "outputs": [],
   "source": [
    "data_response = data_response.dropna(subset=['correct'])\n",
    "q_data = q_data.dropna(subset=['skills'])\n",
    "data_response = data_response.loc[data_response['problem_id'].isin(q_data['problem_id'].unique())]"
   ]
  },
  {
   "cell_type": "code",
   "execution_count": 65,
   "metadata": {},
   "outputs": [],
   "source": [
    "response_data = dict()\n",
    "stu_response_data = dict() \n",
    "stu_num = np.random.choice(np.arange(len(data_response['student_id'].unique())), size=1000, replace=False)\n",
    "least_respone_num = 80\n",
    "original_stu_map = dict()\n",
    "original_cnt_stu = 0\n",
    "\n",
    "for stu in data_response[\"student_id\"].unique():\n",
    "    original_stu_map[original_cnt_stu] = stu\n",
    "    original_cnt_stu += 1"
   ]
  },
  {
   "cell_type": "code",
   "execution_count": 66,
   "metadata": {},
   "outputs": [
    {
     "name": "stderr",
     "output_type": "stream",
     "text": [
      "Filter student: 100%|██████████| 1000/1000 [00:10<00:00, 93.04it/s]\n"
     ]
    }
   ],
   "source": [
    "for stu in tqdm(stu_num, desc='Filter student'):\n",
    "    stu_data = data_response.loc[data_response[\"student_id\"] == original_stu_map[stu]]\n",
    "    for data in stu_data.values:\n",
    "        tmp_data = (stu, data[3])\n",
    "        response_data[tmp_data] = (data[11] == True)\n",
    "\n",
    "for key, value in response_data.items():\n",
    "    if key[0] not in stu_response_data:\n",
    "        stu_response_data[key[0]] = []\n",
    "    stu_response_data[key[0]].append([int(key[0]), key[1], int(value)])"
   ]
  },
  {
   "cell_type": "code",
   "execution_count": 68,
   "metadata": {},
   "outputs": [
    {
     "name": "stderr",
     "output_type": "stream",
     "text": [
      "Remap student_id, question_id and concept_id: 100%|██████████| 1000/1000 [00:05<00:00, 197.94it/s]\n"
     ]
    }
   ],
   "source": [
    "stu_map = dict()\n",
    "cnt_stu = 0\n",
    "question_set = set()\n",
    "cnt_question = 0\n",
    "question_map = dict()\n",
    "concept_set = set()\n",
    "cnt_concept = 0\n",
    "concept_map = dict()\n",
    "\n",
    "\n",
    "for key, value in tqdm(stu_response_data.items(), desc='Remap student_id, question_id and concept_id'):\n",
    "    if len(value) >= least_respone_num:\n",
    "        stu_map[key] = cnt_stu\n",
    "        cnt_stu += 1\n",
    "        for data in value:\n",
    "            question_set.add(data[1])\n",
    "            for concept in q_data.loc[q_data[\"problem_id\"] == data[1]]['skills'].iloc[0].split(','):\n",
    "                concept_set.add(concept)\n",
    "\n",
    "\n",
    "for question in question_set:\n",
    "    question_map[question] = cnt_question\n",
    "    cnt_question += 1\n",
    "\n",
    "for concept in concept_set:\n",
    "    concept_map[concept] = cnt_concept\n",
    "    cnt_concept += 1"
   ]
  },
  {
   "cell_type": "code",
   "execution_count": 69,
   "metadata": {},
   "outputs": [
    {
     "name": "stderr",
     "output_type": "stream",
     "text": [
      "Construct final data: 100%|██████████| 1000/1000 [00:05<00:00, 191.46it/s]\n"
     ]
    },
    {
     "name": "stdout",
     "output_type": "stream",
     "text": [
      "Final student number: 101, Final question number: 9414, Final concept number: 584, Final response number: 19155\n"
     ]
    }
   ],
   "source": [
    "TotalData = []\n",
    "q_matrix = np.zeros((cnt_question, cnt_concept))\n",
    "\n",
    "for key, value in tqdm(stu_response_data.items(), desc='Construct final data'):\n",
    "    if len(value) >= least_respone_num:\n",
    "        for data in value:\n",
    "            TotalData.append([stu_map[data[0]], question_map[data[1]], data[2]])\n",
    "            for concept in q_data.loc[q_data[\"problem_id\"] == data[1]]['skills'].iloc[0].split(','):\n",
    "                q_matrix[question_map[data[1]]][concept_map[concept]] = 1\n",
    "\n",
    "print('Final student number: {}, Final question number: {}, Final concept number: {}, Final response number: {}'.format(cnt_stu, cnt_question, cnt_concept, len(TotalData)))"
   ]
  },
  {
   "cell_type": "code",
   "execution_count": null,
   "metadata": {},
   "outputs": [],
   "source": []
  }
 ],
 "metadata": {
  "kernelspec": {
   "display_name": "base",
   "language": "python",
   "name": "python3"
  },
  "language_info": {
   "codemirror_mode": {
    "name": "ipython",
    "version": 3
   },
   "file_extension": ".py",
   "mimetype": "text/x-python",
   "name": "python",
   "nbconvert_exporter": "python",
   "pygments_lexer": "ipython3",
   "version": "3.7.0"
  }
 },
 "nbformat": 4,
 "nbformat_minor": 2
}
