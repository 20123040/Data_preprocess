{
 "cells": [
  {
   "cell_type": "code",
   "execution_count": null,
   "metadata": {},
   "outputs": [],
   "source": [
    "import numpy as np\n",
    "import pandas as pd\n",
    "from tqdm import tqdm"
   ]
  },
  {
   "cell_type": "code",
   "execution_count": null,
   "metadata": {},
   "outputs": [],
   "source": [
    "q_data = pd.read_csv('2019-2020_school_year/pdets.csv')\n",
    "data_response = pd.read_csv('2019-2020_school_year/plogs.csv')"
   ]
  },
  {
   "cell_type": "code",
   "execution_count": null,
   "metadata": {},
   "outputs": [],
   "source": [
    "data_response.head()"
   ]
  },
  {
   "cell_type": "code",
   "execution_count": null,
   "metadata": {},
   "outputs": [],
   "source": [
    "q_data.head()"
   ]
  },
  {
   "cell_type": "code",
   "execution_count": null,
   "metadata": {},
   "outputs": [],
   "source": [
    "data_response = data_response.dropna(subset=['correct'])\n",
    "q_data = q_data.dropna(subset=['skills'])\n",
    "data_response = data_response.loc[data_response['problem_id'].isin(q_data['problem_id'].unique())]"
   ]
  },
  {
   "cell_type": "code",
   "execution_count": null,
   "metadata": {},
   "outputs": [],
   "source": [
    "response_data = dict()\n",
    "stu_response_data = dict() \n",
    "stu_num = np.random.choice(np.arange(163097), size=8000, replace=False)\n",
    "least_respone_num = 80\n",
    "original_stu_map = dict()\n",
    "original_cnt_stu = 0\n",
    "\n",
    "for stu in data_response[\"student_id\"].unique():\n",
    "    original_stu_map[original_cnt_stu] = stu\n",
    "    original_cnt_stu += 1"
   ]
  },
  {
   "cell_type": "code",
   "execution_count": null,
   "metadata": {},
   "outputs": [],
   "source": [
    "for stu in tqdm(stu_num, desc='Filter student'):\n",
    "    stu_data = data_response.loc[data_response[\"student_id\"] == original_stu_map[stu]]\n",
    "    for data in stu_data.values:\n",
    "        tmp_data = (stu, data[3])\n",
    "        response_data[tmp_data] = (data[11] == True)\n",
    "\n",
    "for key, value in response_data.items():\n",
    "    if key[0] not in stu_response_data:\n",
    "        stu_response_data[key[0]] = []\n",
    "    stu_response_data[key[0]].append([int(key[0]), key[1], int(value)])"
   ]
  },
  {
   "cell_type": "code",
   "execution_count": null,
   "metadata": {},
   "outputs": [],
   "source": [
    "stu_map = dict()\n",
    "cnt_stu = 0\n",
    "question_set = set()\n",
    "cnt_question = 0\n",
    "question_map = dict()\n",
    "concept_set = set()\n",
    "cnt_concept = 0\n",
    "concept_map = dict()\n",
    "\n",
    "\n",
    "for key, value in tqdm(stu_response_data.items(), desc='Remap student_id, question_id and concept_id'):\n",
    "    if len(value) >= least_respone_num:\n",
    "        stu_map[key] = cnt_stu\n",
    "        cnt_stu += 1\n",
    "        for data in value:\n",
    "            question_set.add(data[1])\n",
    "            for concept in q_data.loc[q_data[\"problem_id\"] == data[1]]['skills'].iloc[0].split(','):\n",
    "                concept_set.add(concept)\n",
    "\n",
    "\n",
    "for question in question_set:\n",
    "    question_map[question] = cnt_question\n",
    "    cnt_question += 1\n",
    "\n",
    "for concept in concept_set:\n",
    "    concept_map[concept] = cnt_concept\n",
    "    cnt_concept += 1"
   ]
  },
  {
   "cell_type": "code",
   "execution_count": null,
   "metadata": {},
   "outputs": [],
   "source": [
    "TotalData = []\n",
    "q_matrix = np.zeros((cnt_question, cnt_concept))\n",
    "\n",
    "for key, value in tqdm(stu_response_data.items(), desc='Construct final data'):\n",
    "    if len(value) >= least_respone_num:\n",
    "        for data in value:\n",
    "            TotalData.append([stu_map[data[0]], question_map[data[1]], data[2]])\n",
    "            for concept in q_data.loc[q_data[\"problem_id\"] == data[1]]['skills'].iloc[0].split(','):\n",
    "                q_matrix[question_map[data[1]]][concept_map[concept]] = 1\n",
    "\n",
    "print('Final student number: {}, Final question number: {}, Final concept number: {}, Final response number: {}'.format(cnt_stu, cnt_question, cnt_concept, len(TotalData)))"
   ]
  },
  {
   "cell_type": "code",
   "execution_count": null,
   "metadata": {},
   "outputs": [],
   "source": []
  }
 ],
 "metadata": {
  "kernelspec": {
   "display_name": "base",
   "language": "python",
   "name": "python3"
  },
  "language_info": {
   "codemirror_mode": {
    "name": "ipython",
    "version": 3
   },
   "file_extension": ".py",
   "mimetype": "text/x-python",
   "name": "python",
   "nbconvert_exporter": "python",
   "pygments_lexer": "ipython3",
   "version": "3.7.0"
  }
 },
 "nbformat": 4,
 "nbformat_minor": 2
}
