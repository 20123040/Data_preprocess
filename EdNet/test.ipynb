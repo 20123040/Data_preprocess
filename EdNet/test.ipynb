{
 "cells": [
  {
   "cell_type": "code",
   "execution_count": 1,
   "metadata": {},
   "outputs": [],
   "source": [
    "import numpy as np\n",
    "import pandas as pd\n",
    "import os\n",
    "from tqdm import tqdm"
   ]
  },
  {
   "cell_type": "code",
   "execution_count": 2,
   "metadata": {},
   "outputs": [
    {
     "data": {
      "text/html": [
       "<div>\n",
       "<style scoped>\n",
       "    .dataframe tbody tr th:only-of-type {\n",
       "        vertical-align: middle;\n",
       "    }\n",
       "\n",
       "    .dataframe tbody tr th {\n",
       "        vertical-align: top;\n",
       "    }\n",
       "\n",
       "    .dataframe thead th {\n",
       "        text-align: right;\n",
       "    }\n",
       "</style>\n",
       "<table border=\"1\" class=\"dataframe\">\n",
       "  <thead>\n",
       "    <tr style=\"text-align: right;\">\n",
       "      <th></th>\n",
       "      <th>question_id</th>\n",
       "      <th>bundle_id</th>\n",
       "      <th>explanation_id</th>\n",
       "      <th>correct_answer</th>\n",
       "      <th>part</th>\n",
       "      <th>tags</th>\n",
       "      <th>deployed_at</th>\n",
       "    </tr>\n",
       "  </thead>\n",
       "  <tbody>\n",
       "    <tr>\n",
       "      <th>0</th>\n",
       "      <td>q1</td>\n",
       "      <td>b1</td>\n",
       "      <td>e1</td>\n",
       "      <td>b</td>\n",
       "      <td>1</td>\n",
       "      <td>1;2;179;181</td>\n",
       "      <td>1558093217098</td>\n",
       "    </tr>\n",
       "    <tr>\n",
       "      <th>1</th>\n",
       "      <td>q2</td>\n",
       "      <td>b2</td>\n",
       "      <td>e2</td>\n",
       "      <td>a</td>\n",
       "      <td>1</td>\n",
       "      <td>15;2;182</td>\n",
       "      <td>1558093219720</td>\n",
       "    </tr>\n",
       "    <tr>\n",
       "      <th>2</th>\n",
       "      <td>q3</td>\n",
       "      <td>b3</td>\n",
       "      <td>e3</td>\n",
       "      <td>b</td>\n",
       "      <td>1</td>\n",
       "      <td>14;2;179;183</td>\n",
       "      <td>1558093222784</td>\n",
       "    </tr>\n",
       "    <tr>\n",
       "      <th>3</th>\n",
       "      <td>q4</td>\n",
       "      <td>b4</td>\n",
       "      <td>e4</td>\n",
       "      <td>b</td>\n",
       "      <td>1</td>\n",
       "      <td>9;2;179;184</td>\n",
       "      <td>1558093225357</td>\n",
       "    </tr>\n",
       "    <tr>\n",
       "      <th>4</th>\n",
       "      <td>q5</td>\n",
       "      <td>b5</td>\n",
       "      <td>e5</td>\n",
       "      <td>c</td>\n",
       "      <td>1</td>\n",
       "      <td>8;2;179;181</td>\n",
       "      <td>1558093228439</td>\n",
       "    </tr>\n",
       "  </tbody>\n",
       "</table>\n",
       "</div>"
      ],
      "text/plain": [
       "  question_id bundle_id explanation_id correct_answer  part          tags  \\\n",
       "0          q1        b1             e1              b     1   1;2;179;181   \n",
       "1          q2        b2             e2              a     1      15;2;182   \n",
       "2          q3        b3             e3              b     1  14;2;179;183   \n",
       "3          q4        b4             e4              b     1   9;2;179;184   \n",
       "4          q5        b5             e5              c     1   8;2;179;181   \n",
       "\n",
       "     deployed_at  \n",
       "0  1558093217098  \n",
       "1  1558093219720  \n",
       "2  1558093222784  \n",
       "3  1558093225357  \n",
       "4  1558093228439  "
      ]
     },
     "execution_count": 2,
     "metadata": {},
     "output_type": "execute_result"
    }
   ],
   "source": [
    "dir_route = \"KT1\"\n",
    "dirs = os.listdir(dir_route)\n",
    "response_data = dict()\n",
    "stu_response_data = dict() \n",
    "stu_num = np.random.choice(np.arange(784309), size=80, replace=False)\n",
    "least_respone_num = 10\n",
    "q_data = pd.read_csv(\"content/questions.csv\")\n",
    "original_stu_map = dict()\n",
    "original_cnt_stu = 0\n",
    "\n",
    "for dir in dirs:\n",
    "    original_stu_map[original_cnt_stu] = dir\n",
    "    original_cnt_stu += 1\n",
    "\n",
    "q_data.head()"
   ]
  },
  {
   "cell_type": "code",
   "execution_count": 3,
   "metadata": {},
   "outputs": [
    {
     "name": "stderr",
     "output_type": "stream",
     "text": [
      "Filter student: 100%|██████████| 80/80 [00:09<00:00,  8.32it/s]\n",
      "Filter the least respone number: 100%|██████████| 8483/8483 [00:00<00:00, 1481030.67it/s]\n"
     ]
    }
   ],
   "source": [
    "for stu in tqdm(stu_num, desc='Filter student'):\n",
    "    stu_data = pd.read_csv(os.path.join(dir_route, original_stu_map[stu]))\n",
    "    for data in stu_data.values:\n",
    "        tmp_data = (stu, data[2])\n",
    "        response_data[tmp_data] = (q_data.loc[q_data[\"question_id\"] == data[2]][\"correct_answer\"].iloc[0] == data[3])\n",
    "\n",
    "for key, value in tqdm(response_data.items(), desc='Filter the least respone number'):\n",
    "    if key[0] not in stu_response_data:\n",
    "        stu_response_data[key[0]] = []\n",
    "    stu_response_data[key[0]].append([int(key[0]), key[1], int(value)])"
   ]
  },
  {
   "cell_type": "code",
   "execution_count": 14,
   "metadata": {},
   "outputs": [
    {
     "name": "stderr",
     "output_type": "stream",
     "text": [
      "Remap student_id, question_id and concept_id: 100%|██████████| 80/80 [00:07<00:00, 11.05it/s]\n"
     ]
    }
   ],
   "source": [
    "stu_map = dict()\n",
    "cnt_stu = 0\n",
    "question_set = set()\n",
    "cnt_question = 0\n",
    "question_map = dict()\n",
    "concept_set = set()\n",
    "cnt_concept = 0\n",
    "concept_map = dict()\n",
    "\n",
    "\n",
    "for key, value in tqdm(stu_response_data.items(), desc='Remap student_id, question_id and concept_id'):\n",
    "    if len(value) >= least_respone_num:\n",
    "        stu_map[key] = cnt_stu\n",
    "        cnt_stu += 1\n",
    "        for data in value:\n",
    "            question_set.add(data[1])\n",
    "            for concept in q_data.loc[q_data[\"question_id\"] == data[1]]['tags'].iloc[0].split(';'):\n",
    "                concept_set.add(concept)\n",
    "\n",
    "\n",
    "for question in question_set:\n",
    "    question_map[question] = cnt_question\n",
    "    cnt_question += 1\n",
    "\n",
    "for concept in concept_set:\n",
    "    concept_map[concept] = cnt_concept\n",
    "    cnt_concept += 1"
   ]
  },
  {
   "cell_type": "code",
   "execution_count": 18,
   "metadata": {},
   "outputs": [
    {
     "name": "stderr",
     "output_type": "stream",
     "text": [
      "Construct final data: 100%|██████████| 80/80 [00:07<00:00, 10.74it/s]\n"
     ]
    },
    {
     "name": "stdout",
     "output_type": "stream",
     "text": [
      "Final student number: 41, Final question number: 4754, Final concept number: 185, Final response number: 8251\n"
     ]
    }
   ],
   "source": [
    "TotalData = []\n",
    "q_matrix = np.zeros((cnt_question, cnt_concept))\n",
    "\n",
    "for key, value in tqdm(stu_response_data.items(), desc='Construct final data'):\n",
    "    if len(value) >= least_respone_num:\n",
    "        for data in value:\n",
    "            TotalData.append([stu_map[data[0]], question_map[data[1]], data[2]])\n",
    "            for concept in q_data.loc[q_data[\"question_id\"] == data[1]]['tags'].iloc[0].split(';'):\n",
    "                q_matrix[question_map[data[1]]][concept_map[concept]] = 1\n",
    "\n",
    "\n",
    "print('Final student number: {}, Final question number: {}, Final concept number: {}, Final response number: {}'.format(cnt_stu, cnt_question, cnt_concept, len(TotalData)))"
   ]
  },
  {
   "cell_type": "code",
   "execution_count": null,
   "metadata": {},
   "outputs": [],
   "source": []
  }
 ],
 "metadata": {
  "kernelspec": {
   "display_name": "base",
   "language": "python",
   "name": "python3"
  },
  "language_info": {
   "codemirror_mode": {
    "name": "ipython",
    "version": 3
   },
   "file_extension": ".py",
   "mimetype": "text/x-python",
   "name": "python",
   "nbconvert_exporter": "python",
   "pygments_lexer": "ipython3",
   "version": "3.7.0"
  }
 },
 "nbformat": 4,
 "nbformat_minor": 2
}
